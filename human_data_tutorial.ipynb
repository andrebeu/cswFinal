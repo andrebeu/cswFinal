{
 "cells": [
  {
   "cell_type": "markdown",
   "metadata": {},
   "source": [
    "# CSW DATASET\n",
    "* click [here](https://drive.google.com/drive/u/0/folders/1qYP5zcY7i9ALt0d_SldA06ouiPHp4wpF) to download"
   ]
  },
  {
   "cell_type": "code",
   "execution_count": null,
   "metadata": {},
   "outputs": [],
   "source": [
    "import os, re\n",
    "import pandas as pd\n",
    "import numpy as np\n",
    "import json\n",
    "\n",
    "from matplotlib import pyplot as plt\n",
    "import seaborn as sns\n",
    "sns.set_context('talk')\n",
    "%matplotlib inline\n",
    "plt.rcParams['font.size'] = 22\n",
    "\n",
    "%load_ext autoreload\n",
    "%reload_ext autoreload\n",
    "%autoreload 2"
   ]
  },
  {
   "cell_type": "code",
   "execution_count": null,
   "metadata": {},
   "outputs": [],
   "source": [
    "from humanUtils import *\n",
    "## this file contains most of the logic for loading and processing database\n",
    "from cswHumanDatabase import load_final_df, load_dfs\n"
   ]
  },
  {
   "cell_type": "markdown",
   "metadata": {},
   "source": [
    "# load thresholded dataset"
   ]
  },
  {
   "cell_type": "code",
   "execution_count": null,
   "metadata": {},
   "outputs": [],
   "source": [
    "## load a thresholded dateset\n",
    "cond = 'blocked'\n",
    "thresh = 0.9\n",
    "df = load_final_df(cond,threshold=thresh)"
   ]
  },
  {
   "cell_type": "markdown",
   "metadata": {},
   "source": [
    "## group level plots"
   ]
  },
  {
   "cell_type": "code",
   "execution_count": null,
   "metadata": {},
   "outputs": [],
   "source": [
    "## operating pandas dataframes\n",
    "compute_mean = lambda df_: df_.groupby(['story']).correct_response.mean()\n",
    "compute_stderr = lambda df_: df_.groupby(['story']).correct_response.std(\n",
    "  ) / np.sqrt(len(df_.index.get_level_values('subjnum').unique()))\n"
   ]
  },
  {
   "cell_type": "code",
   "execution_count": null,
   "metadata": {},
   "outputs": [],
   "source": [
    "M = compute_mean(df)\n",
    "S = compute_stderr(df)\n",
    "plt.plot(M)\n",
    "plt.fill_between(np.arange(len(M)),M-S,M+S,alpha=0.3)"
   ]
  },
  {
   "cell_type": "markdown",
   "metadata": {},
   "source": [
    "### separate steps 2 and 3"
   ]
  },
  {
   "cell_type": "code",
   "execution_count": null,
   "metadata": {},
   "outputs": [],
   "source": [
    "df2 = df[df.index.get_level_values('depth')==1]\n",
    "df3 = df[df.index.get_level_values('depth')==2]\n",
    "\n",
    "plt.plot(compute_mean(df2))\n",
    "plt.plot(compute_mean(df3))"
   ]
  },
  {
   "cell_type": "markdown",
   "metadata": {},
   "source": [
    "### colored background"
   ]
  },
  {
   "cell_type": "code",
   "execution_count": null,
   "metadata": {},
   "outputs": [],
   "source": [
    "## load a thresholded dateset\n",
    "cond = 'blocked'\n",
    "thresh = 0.9\n",
    "df = load_final_df(cond,threshold=thresh)"
   ]
  },
  {
   "cell_type": "code",
   "execution_count": null,
   "metadata": {
    "scrolled": true
   },
   "outputs": [],
   "source": [
    "## compute mean and stderr\n",
    "M = compute_mean(df)\n",
    "S = compute_stderr(df)\n",
    "## plot with error shading\n",
    "ax = plt.gca()\n",
    "ax.plot(M)\n",
    "ax.fill_between(np.arange(len(M)),M-S,M+S,alpha=0.3)\n",
    "## make nice background\n",
    "cL = ['blue','green','blue','green','red']\n",
    "for idx in range(5):\n",
    "  ax.fill_between(np.arange(40*idx,41+40*idx),0,1.05,color=cL[idx],alpha=0.2)"
   ]
  },
  {
   "cell_type": "markdown",
   "metadata": {},
   "source": [
    "## subject level plots"
   ]
  },
  {
   "cell_type": "markdown",
   "metadata": {},
   "source": [
    "### iterate over subjects, compute sliding window accuracy"
   ]
  },
  {
   "cell_type": "code",
   "execution_count": null,
   "metadata": {},
   "outputs": [],
   "source": [
    "# one subject at a time\n",
    "for sidx,sub_df in df.groupby(['subjnum']):\n",
    "  sub_acc = mov_avg(sub_df.correct_response.values,window=10)"
   ]
  },
  {
   "cell_type": "code",
   "execution_count": null,
   "metadata": {
    "scrolled": true
   },
   "outputs": [],
   "source": [
    "# for all subjects at once\n",
    "mov_avg_window = 10\n",
    "sub_acc_series = df.groupby(['subjnum']).correct_response.apply(mov_avg,mov_avg_window)\n",
    "type(sub_acc_series),'N=',len(sub_acc_series)"
   ]
  },
  {
   "cell_type": "code",
   "execution_count": null,
   "metadata": {
    "scrolled": true
   },
   "outputs": [],
   "source": [
    "fg,axar = plt.subplots(12,5,figsize=(40,40),sharey=True,sharex=True);axar=axar.reshape(-1)\n",
    "\n",
    "for idx in range(len(sub_acc_series)):\n",
    "  ax=axar[idx]\n",
    "  sub_acc=sub_acc_series.iloc[idx]\n",
    "  ax.set_title('S%i'%sub_acc_series.index[idx])\n",
    "  ax.plot(sub_acc)\n",
    "  ax.axhline(0.5,c='k',lw=.3)\n"
   ]
  },
  {
   "cell_type": "markdown",
   "metadata": {},
   "source": [
    "# stats"
   ]
  },
  {
   "cell_type": "code",
   "execution_count": null,
   "metadata": {},
   "outputs": [],
   "source": [
    "from scipy.stats import ttest_rel,ttest_ind"
   ]
  },
  {
   "cell_type": "markdown",
   "metadata": {},
   "source": [
    "### test performance difference between conditions"
   ]
  },
  {
   "cell_type": "code",
   "execution_count": null,
   "metadata": {},
   "outputs": [],
   "source": [
    "cond1,cond2 = 'interleaved','interleaved_rep'\n",
    "df1 = load_final_df(cond1)\n",
    "df2 = load_final_df(cond2)"
   ]
  },
  {
   "cell_type": "code",
   "execution_count": null,
   "metadata": {},
   "outputs": [],
   "source": [
    "get_test_df = lambda df: df[df.index.get_level_values('block') == 4]"
   ]
  },
  {
   "cell_type": "code",
   "execution_count": null,
   "metadata": {},
   "outputs": [],
   "source": [
    "sub_testacc_df1 = get_test_df(df1).groupby(['subjnum']).correct_response.mean()\n",
    "sub_testacc_df2 = get_test_df(df2).groupby(['subjnum']).correct_response.mean()\n",
    "ttest_ind(sub_testacc_df1,sub_testacc_df2)"
   ]
  },
  {
   "cell_type": "markdown",
   "metadata": {},
   "source": [
    "### interleaved timestep 2 vs 3 "
   ]
  },
  {
   "cell_type": "code",
   "execution_count": null,
   "metadata": {},
   "outputs": [],
   "source": [
    "df1 = load_final_df('interleaved')"
   ]
  },
  {
   "cell_type": "code",
   "execution_count": null,
   "metadata": {},
   "outputs": [],
   "source": [
    "get_tstep_df = lambda df,tstep: df[df.index.get_level_values('depth') == tstep]"
   ]
  },
  {
   "cell_type": "code",
   "execution_count": null,
   "metadata": {},
   "outputs": [],
   "source": [
    "# step 1\n",
    "sub_testacc_step1 = get_tstep_df(get_test_df(df1),1\n",
    "                  ).groupby(['subjnum']).correct_response.mean()\n",
    "# step 2\n",
    "sub_testacc_step2 = get_tstep_df(get_test_df(df1),2\n",
    "                  ).groupby(['subjnum']).correct_response.mean()\n"
   ]
  },
  {
   "cell_type": "code",
   "execution_count": null,
   "metadata": {},
   "outputs": [],
   "source": [
    "ttest_rel(sub_testacc_step1,sub_testacc_step2)"
   ]
  }
 ],
 "metadata": {
  "kernelspec": {
   "display_name": "Python 3",
   "language": "python",
   "name": "python3"
  },
  "language_info": {
   "codemirror_mode": {
    "name": "ipython",
    "version": 3
   },
   "file_extension": ".py",
   "mimetype": "text/x-python",
   "name": "python",
   "nbconvert_exporter": "python",
   "pygments_lexer": "ipython3",
   "version": "3.8.8"
  }
 },
 "nbformat": 4,
 "nbformat_minor": 2
}

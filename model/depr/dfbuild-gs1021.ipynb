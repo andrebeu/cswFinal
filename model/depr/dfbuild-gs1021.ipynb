{
 "cells": [
  {
   "cell_type": "code",
   "execution_count": 1,
   "id": "c22e51f6",
   "metadata": {},
   "outputs": [],
   "source": [
    "from glob import glob as glob\n",
    "import pandas as pd\n",
    "import numpy as np"
   ]
  },
  {
   "cell_type": "code",
   "execution_count": 2,
   "id": "601eb732",
   "metadata": {},
   "outputs": [],
   "source": [
    "fL = glob('data/gs1021/rawacc/acc-*')\n",
    "condL = ['blocked','interleaved','early','middle','late']\n",
    "accL = []\n",
    "for f in fL:\n",
    "  ## load single param at a time \n",
    "  accseeds = np.load(f) # cond,seed,trials\n",
    "  acc = accseeds.mean(1)\n",
    "  paramD = {}\n",
    "  param_names = ['alpha','betawi','betabt','lmda']\n",
    "  param_vals = [i.split('_')[-1] for i in f.split('/')[-1].split('-')[1:]][:4]\n",
    "  paramD = {**paramD,**dict(zip(param_names,param_vals))}\n",
    "  ## make dataframe for single param\n",
    "  for ci in range(len(condL)):\n",
    "    accdf = pd.DataFrame(data={\n",
    "      **paramD,\n",
    "      'cond':condL[ci],\n",
    "      'trial':np.arange(200),\n",
    "      'acc':acc[ci],\n",
    "    })\n",
    "    accL.append(accdf)\n",
    "\n",
    "gsdf = pd.concat(accL)\n"
   ]
  },
  {
   "cell_type": "code",
   "execution_count": 4,
   "id": "92496dcf",
   "metadata": {},
   "outputs": [],
   "source": [
    "gsdf.to_csv('data/gs1021/gsdf.csv')"
   ]
  }
 ],
 "metadata": {
  "kernelspec": {
   "display_name": "Python 3",
   "language": "python",
   "name": "python3"
  },
  "language_info": {
   "codemirror_mode": {
    "name": "ipython",
    "version": 3
   },
   "file_extension": ".py",
   "mimetype": "text/x-python",
   "name": "python",
   "nbconvert_exporter": "python",
   "pygments_lexer": "ipython3",
   "version": "3.8.8"
  }
 },
 "nbformat": 4,
 "nbformat_minor": 5
}

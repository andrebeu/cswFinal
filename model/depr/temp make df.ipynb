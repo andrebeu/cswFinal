{
 "cells": [
  {
   "cell_type": "code",
   "execution_count": 2,
   "id": "d128c2cf",
   "metadata": {},
   "outputs": [],
   "source": [
    "# from matplotlib import pyplot as plt\n",
    "# from scipy.special import softmax\n",
    "# from itertools import product\n",
    "import numpy as np\n",
    "# from utils import *\n",
    "# from model import *\n",
    "# import time\n",
    "# import seaborn as sns\n",
    "from glob import glob as glob\n",
    "import pandas as pd\n"
   ]
  },
  {
   "cell_type": "code",
   "execution_count": 3,
   "id": "638346fc",
   "metadata": {},
   "outputs": [],
   "source": [
    "gsname = 'gs1109'\n",
    "MAKE_DATADF = True\n",
    "MAKE_SUMMDF = True"
   ]
  },
  {
   "cell_type": "code",
   "execution_count": 5,
   "id": "ac0f3768",
   "metadata": {},
   "outputs": [
    {
     "name": "stdout",
     "output_type": "stream",
     "text": [
      "0 500\n"
     ]
    }
   ],
   "source": [
    "\n",
    "dfpathL = glob('data/%s/*'%gsname)\n",
    "datadfL = []\n",
    "for idx in np.arange(500,501,500):\n",
    "  print(idx-500,idx)\n",
    "  ## inner\n",
    "  dfL = []\n",
    "  for p in dfpathL[:50]:\n",
    "    try:\n",
    "      seed_df = pd.read_csv(p)\n",
    "    except:\n",
    "      print('err',p)\n",
    "      continue"
   ]
  },
  {
   "cell_type": "code",
   "execution_count": 18,
   "id": "7b5d9cf9",
   "metadata": {},
   "outputs": [
    {
     "data": {
      "text/plain": [
       "{'concentration': 95.54600818407124,\n",
       " 'stickiness_wi': 86.79074487762082,\n",
       " 'stickiness_bt': 34.60887373770464,\n",
       " 'sparsity': 0.6223082442067926,\n",
       " 'pvar': 0,\n",
       " 'lrate': 1,\n",
       " 'lratep': 1,\n",
       " 'decay_rate': 1,\n",
       " 'skipt1': False,\n",
       " 'testacc-b': 0.5,\n",
       " 'testacc-e': 0.5,\n",
       " 'testacc-i': 0.5,\n",
       " 'testacc-l': 0.5,\n",
       " 'testacc-m': 0.5}"
      ]
     },
     "execution_count": 18,
     "metadata": {},
     "output_type": "execute_result"
    }
   ],
   "source": [
    "seed_df.groupby('cond')\n",
    "paramL = ['concentration', 'stickiness_wi', 'stickiness_bt',\n",
    "   'sparsity', 'pvar', 'lrate', 'lratep', 'decay_rate',\n",
    "   'skipt1']\n",
    "dfgrp = seed_df.groupby(paramL)\n",
    "for params_i,df_i in dfgrp:\n",
    "  dataD = {**dict(zip(paramL,params_i))}\n",
    "  dataD\n",
    "  for cond_i,df_c in df_i.groupby('cond'):\n",
    "    ## compute metrics\n",
    "    testacc = np.mean(df_c.acc[-40:])\n",
    "    ## populate dataD\n",
    "    dataD['testacc-%s'%cond_i[0]] = testacc\n",
    "dataD"
   ]
  },
  {
   "cell_type": "code",
   "execution_count": null,
   "id": "657fa72c",
   "metadata": {},
   "outputs": [],
   "source": []
  },
  {
   "cell_type": "code",
   "execution_count": null,
   "id": "77551ff0",
   "metadata": {},
   "outputs": [],
   "source": [
    "assert False"
   ]
  },
  {
   "cell_type": "code",
   "execution_count": null,
   "id": "1cfb75d6",
   "metadata": {},
   "outputs": [],
   "source": []
  },
  {
   "cell_type": "code",
   "execution_count": 3,
   "id": "b450a496",
   "metadata": {},
   "outputs": [
    {
     "name": "stdout",
     "output_type": "stream",
     "text": [
      "reading datadf\n"
     ]
    }
   ],
   "source": [
    "print('reading datadf')\n",
    "datadf = pd.read_csv('data/%s-datadf.csv'%gsname)\n",
    "\n",
    "datadf.columns\n",
    "paramL = ['concentration', 'stickiness_wi', 'stickiness_bt',\n",
    "   'sparsity', 'pvar', 'lrate', 'lratep', 'decay_rate',\n",
    "   'skipt1','cond']"
   ]
  },
  {
   "cell_type": "code",
   "execution_count": 4,
   "id": "3bbb826d",
   "metadata": {},
   "outputs": [
    {
     "name": "stdout",
     "output_type": "stream",
     "text": [
      "making summdf\n"
     ]
    }
   ],
   "source": [
    "print('making summdf')\n",
    "## compute summary df\n",
    "groupvars = paramL \n",
    "gsdf_group = datadf.groupby(groupvars)\n",
    "del datadf"
   ]
  },
  {
   "cell_type": "code",
   "execution_count": null,
   "id": "99aa1ace",
   "metadata": {},
   "outputs": [],
   "source": [
    "def fn(X):\n",
    "  return np.mean(X[-40:])\n",
    "\n",
    "R = gsdf_group.apply(fn)"
   ]
  },
  {
   "cell_type": "code",
   "execution_count": 9,
   "id": "9aa62836",
   "metadata": {},
   "outputs": [],
   "source": [
    "groupitr = gsdf_group.__iter__()"
   ]
  },
  {
   "cell_type": "code",
   "execution_count": null,
   "id": "2be578a0",
   "metadata": {},
   "outputs": [],
   "source": [
    "for i,j in groupitr:\n",
    "  print(i)"
   ]
  },
  {
   "cell_type": "code",
   "execution_count": 3,
   "id": "4616a292",
   "metadata": {},
   "outputs": [
    {
     "name": "stdout",
     "output_type": "stream",
     "text": [
      "0 500\n",
      "error data/gs1109/df-10060461235380701.csv\n",
      "error data/gs1109/df-9820102136417632.csv\n",
      "inner concating\n",
      "500 1000\n",
      "error data/gs1109/df-10072636061805864.csv\n",
      "error data/gs1109/df-10072636050243653.csv\n",
      "inner concating\n",
      "1000 1500\n",
      "error data/gs1109/df-10076752667587755.csv\n",
      "error data/gs1109/df-9789271961503035.csv\n",
      "inner concating\n",
      "1500 2000\n",
      "inner concating\n",
      "outer concating\n"
     ]
    }
   ],
   "source": [
    "dfpathL = glob('data/%s/*'%gsname)\n",
    "datadfL = []\n",
    "for idx in np.arange(500,2001,500):\n",
    "  print(idx-500,idx)\n",
    "  ## inner\n",
    "  dfL = []\n",
    "  for p in dfpathL[idx-500:idx]:\n",
    "    try:\n",
    "      df_ = pd.read_csv(p)\n",
    "      dfL.append(df_)\n",
    "    except:\n",
    "      print('error',p)\n",
    "      continue\n",
    "  print('inner concating')\n",
    "  mini_datadf = pd.concat(dfL).drop(columns='Unnamed: 0',)\n",
    "  datadfL.append(mini_datadf)\n",
    "print('outer concating')\n",
    "datadf = pd.concat(datadfL)"
   ]
  },
  {
   "cell_type": "code",
   "execution_count": 4,
   "id": "96d5f248",
   "metadata": {},
   "outputs": [],
   "source": [
    "## SAVE BEFORE RESTARTING\n",
    "datadf.to_csv('data/%s-datadf.csv'%gsname)"
   ]
  },
  {
   "cell_type": "code",
   "execution_count": 5,
   "id": "f203d8c9",
   "metadata": {},
   "outputs": [
    {
     "name": "stdout",
     "output_type": "stream",
     "text": [
      "save\n"
     ]
    }
   ],
   "source": [
    "print('save')"
   ]
  },
  {
   "cell_type": "code",
   "execution_count": null,
   "id": "c770a443",
   "metadata": {},
   "outputs": [],
   "source": [
    "\n",
    "for itr in [700,800,900,1000]:\n",
    "  print('making datadf')\n",
    "  dfpathL = glob('data/%s/*'%gsname)\n",
    "  dfL = []\n",
    "  for p in dfpathL[:itr]:\n",
    "    try:\n",
    "      df_ = pd.read_csv(p)\n",
    "      dfL.append(df_)\n",
    "    except:\n",
    "      print('error',p)\n",
    "      continue\n",
    "  print('concating')\n",
    "  ## BREAKING HERE\n",
    "  datadf = pd.concat(dfL).drop(columns='Unnamed: 0',)\n",
    "  # datadf ## full data\n",
    "  print('saving datadf')\n",
    "  datadf.to_csv('data/%s-datadf.csv'%gsname)\n"
   ]
  },
  {
   "cell_type": "code",
   "execution_count": null,
   "id": "e9186a77",
   "metadata": {},
   "outputs": [],
   "source": [
    "1"
   ]
  },
  {
   "cell_type": "code",
   "execution_count": null,
   "id": "91853c7f",
   "metadata": {},
   "outputs": [],
   "source": [
    "\n",
    "### \n",
    "print('reading datadf')\n",
    "datadf = pd.read_csv('data/%s-datadf.csv'%gsname)\n",
    "datadf.columns\n",
    "paramL = ['concentration', 'stickiness_wi', 'stickiness_bt',\n",
    "   'sparsity', 'pvar', 'lrate', 'lratep', 'decay_rate',\n",
    "   'skipt1']\n",
    "\n",
    "\n",
    "if MAKE_SUMMDF:\n",
    "    print('making summdf')\n",
    "    ## compute summary df\n",
    "    groupvars = paramL \n",
    "    gsdf_group = datadf.groupby(groupvars)\n",
    "    print('grouped')\n",
    "    dfL = []\n",
    "    for params_i,df_i in gsdf_group:\n",
    "      dataD = {**dict(zip(groupvars,params_i))}\n",
    "      ## loop conditions (BIEML)\n",
    "      for cond_i,df_c in df_i.groupby('cond'):\n",
    "        ## compute metrics\n",
    "        testacc = np.mean(df_c.acc[-40:])\n",
    "        ## populate dataD\n",
    "        dataD['testacc-%s'%cond_i[0]] = testacc\n",
    "      ### HYPOTHESIS BOTTLENECK \n",
    "      dfL.append(pd.DataFrame(index=[0],data=dataD))\n",
    "      ##\n",
    "    gsdf = pd.concat(dfL)\n",
    "    gsdf.to_csv('data/%s-summdf.csv'%gsname)"
   ]
  }
 ],
 "metadata": {
  "kernelspec": {
   "display_name": "Python 3",
   "language": "python",
   "name": "python3"
  },
  "language_info": {
   "codemirror_mode": {
    "name": "ipython",
    "version": 3
   },
   "file_extension": ".py",
   "mimetype": "text/x-python",
   "name": "python",
   "nbconvert_exporter": "python",
   "pygments_lexer": "ipython3",
   "version": "3.8.8"
  }
 },
 "nbformat": 4,
 "nbformat_minor": 5
}
